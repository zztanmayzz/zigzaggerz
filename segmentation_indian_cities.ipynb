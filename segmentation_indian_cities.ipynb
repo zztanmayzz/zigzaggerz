{
  "cells": [
    {
      "cell_type": "markdown",
      "metadata": {
        "id": "view-in-github",
        "colab_type": "text"
      },
      "source": [
        "<a href=\"https://colab.research.google.com/github/zztanmayzz/zigzaggerz/blob/main/segmentation_indian_cities.ipynb\" target=\"_parent\"><img src=\"https://colab.research.google.com/assets/colab-badge.svg\" alt=\"Open In Colab\"/></a>"
      ]
    },
    {
      "cell_type": "code",
      "execution_count": 11,
      "metadata": {
        "id": "FjidrclUDYO3"
      },
      "outputs": [],
      "source": [
        "#!pip install kaggle\n",
        "#from google.colab import files\n",
        "\n",
        "# Upload kaggle.json from your local machine (get from Kaggle account)\n",
        "#files.upload()"
      ]
    },
    {
      "cell_type": "code",
      "execution_count": 12,
      "metadata": {
        "id": "JPLuj5jrDc6m"
      },
      "outputs": [],
      "source": [
        "#!mkdir -p ~/.kaggle\n",
        "#!mv \"kaggle(1).json\" ~/.kaggle/kaggle.json\n",
        "#!chmod 600 ~/.kaggle/kaggle.json"
      ]
    },
    {
      "cell_type": "code",
      "execution_count": 10,
      "metadata": {
        "colab": {
          "base_uri": "https://localhost:8080/"
        },
        "id": "58lUqgj5DrKE",
        "outputId": "39d19691-3635-476e-9074-cb89781cdc2f"
      },
      "outputs": [
        {
          "output_type": "stream",
          "name": "stdout",
          "text": [
            "Dataset URL: https://www.kaggle.com/datasets/balraj98/deepglobe-road-extraction-dataset\n",
            "License(s): other\n",
            "deepglobe-road-extraction-dataset.zip: Skipping, found more recently modified local copy (use --force to force download)\n",
            "Archive:  deepglobe-road-extraction-dataset.zip\n",
            "replace deepglobe_dataset/class_dict.csv? [y]es, [n]o, [A]ll, [N]one, [r]ename: N\n"
          ]
        }
      ],
      "source": [
        "#!kaggle datasets download -d balraj98/deepglobe-road-extraction-dataset\n",
        "#!unzip deepglobe-road-extraction-dataset.zip -d deepglobe_dataset"
      ]
    },
    {
      "cell_type": "code",
      "execution_count": 10,
      "metadata": {
        "id": "UaQe2B2yD3ZP"
      },
      "outputs": [],
      "source": [
        "# Install dependencies (run in notebook or terminal)\n",
        "!pip install segmentation-models-pytorch torch torchvision opencv-python matplotlib albumentations\n",
        "\n",
        "import torch\n",
        "import segmentation_models_pytorch as smp\n",
        "from torch.utils.data import DataLoader, Dataset\n",
        "import cv2\n",
        "import numpy as np\n",
        "import matplotlib.pyplot as plt\n",
        "import albumentations as A\n",
        "from albumentations.pytorch import ToTensorV2\n",
        "\n",
        "\n",
        "# Define dataset class for loading images and masks\n",
        "class SatelliteSegmentationDataset(Dataset):\n",
        "    def __init__(self, image_paths, mask_paths, transform=None):\n",
        "        self.image_paths = image_paths\n",
        "        self.mask_paths = mask_paths\n",
        "        self.transform = transform\n",
        "\n",
        "    def __len__(self):\n",
        "        return len(self.image_paths)\n",
        "\n",
        "    def __getitem__(self, idx):\n",
        "        image = cv2.imread(self.image_paths[idx])\n",
        "        image = cv2.cvtColor(image, cv2.COLOR_BGR2RGB)\n",
        "        mask = cv2.imread(self.mask_paths[idx], cv2.IMREAD_GRAYSCALE)  # assuming single channel mask\n",
        "        # normalize and preprocess here\n",
        "        if self.transform:\n",
        "            augmented = self.transform(image=image, mask=mask)\n",
        "            image = augmented['image']\n",
        "            mask = augmented['mask']\n",
        "        image = image.transpose(2, 0, 1) / 255.0  # HWC to CHW and normalize\n",
        "        mask = np.array(mask)\n",
        "        return torch.tensor(image, dtype=torch.float32), torch.tensor(mask, dtype=torch.long)\n",
        "\n",
        "\n",
        "# Define transforms for training and inference\n",
        "def get_transforms():\n",
        "    return A.Compose([\n",
        "        A.Resize(256, 256),\n",
        "        A.HorizontalFlip(p=0.5),\n",
        "        A.RandomBrightnessContrast(p=0.2),\n",
        "        A.Normalize(),\n",
        "        ToTensorV2(),\n",
        "    ])\n",
        "\n",
        "\n",
        "# Define model (e.g., DeepLabV3+ with ResNet encoder)\n",
        "model = smp.DeepLabV3Plus(\n",
        "    encoder_name=\"resnet34\",\n",
        "    encoder_weights=\"imagenet\",\n",
        "    in_channels=3,\n",
        "    classes=4  # background + roads + water + concrete/soil\n",
        ")\n",
        "\n",
        "\n",
        "# Define loss and optimizer\n",
        "loss_fn = torch.nn.CrossEntropyLoss()\n",
        "optimizer = torch.optim.Adam(model.parameters(), lr=1e-4)\n",
        "\n",
        "\n",
        "# Training loop (simplified)\n",
        "def train_epoch(dataloader, model, loss_fn, optimizer):\n",
        "    model.train()\n",
        "    for images, masks in dataloader:\n",
        "        optimizer.zero_grad()\n",
        "        outputs = model(images)\n",
        "        loss = loss_fn(outputs, masks)\n",
        "        loss.backward()\n",
        "        optimizer.step()\n",
        "\n",
        "\n",
        "# Visualization function to display segmented features\n",
        "def visualize_segmentation(image, mask_pred):\n",
        "    # map classes to colors\n",
        "    colors = {\n",
        "        0: [0, 0, 0],         # background black\n",
        "        1: [255, 0, 0],       # roads red\n",
        "        2: [0, 0, 255],       # water blue\n",
        "        3: [128, 128, 128]    # concrete gray or soil brown as needed\n",
        "    }\n",
        "    color_mask = np.zeros((mask_pred.shape[0], mask_pred.shape[1], 3), dtype=np.uint8)\n",
        "    for cls, color in colors.items():\n",
        "        color_mask[mask_pred == cls] = color\n",
        "    overlay = cv2.addWeighted(image, 0.7, color_mask, 0.3, 0)\n",
        "    plt.imshow(overlay)\n",
        "    plt.axis('off')\n",
        "    plt.show()\n",
        "\n",
        "\n",
        "def predict_mask(model, image_path, transform):\n",
        "    model.eval()\n",
        "    image = cv2.imread(image_path)\n",
        "    image = cv2.cvtColor(image, cv2.COLOR_BGR2RGB)\n",
        "\n",
        "    # Apply same preprocessing for inference\n",
        "    augmented = transform(image=image)\n",
        "    input_tensor = augmented['image'].unsqueeze(0)  # batch dimension\n",
        "\n",
        "    with torch.no_grad():\n",
        "        output = model(input_tensor)\n",
        "        pred_mask = torch.argmax(output.squeeze(), dim=0).cpu().numpy()\n",
        "\n",
        "    return image, pred_mask\n",
        "\n",
        "\n",
        "def visualize_side_by_side(image, mask_pred):\n",
        "    # Create color overlay for mask\n",
        "    colors = {\n",
        "        0: [0, 0, 0],         # background black\n",
        "        1: [255, 0, 0],       # roads red\n",
        "        2: [0, 0, 255],       # water blue\n",
        "        3: [128, 128, 128]    # concrete gray\n",
        "    }\n",
        "    color_mask = np.zeros((mask_pred.shape[0], mask_pred.shape[1], 3), dtype=np.uint8)\n",
        "    for cls, color in colors.items():\n",
        "        color_mask[mask_pred == cls] = color\n",
        "    overlay = cv2.addWeighted(image, 0.7, color_mask, 0.3, 0)\n",
        "\n",
        "    # Plot side by side\n",
        "    plt.figure(figsize=(12,6))\n",
        "    plt.subplot(1,2,1)\n",
        "    plt.title(\"Original Image\")\n",
        "    plt.imshow(image)\n",
        "    plt.axis('off')\n",
        "\n",
        "    plt.subplot(1,2,2)\n",
        "    plt.title(\"Segmentation Overlay\")\n",
        "    plt.imshow(overlay)\n",
        "    plt.axis('off')\n",
        "\n",
        "    plt.show()\n",
        "\n",
        "\n",
        "# Example usage:\n",
        "test_transform = get_transforms()  # same transform used in training\n",
        "\n",
        "image_path = \"path/to/test_image.png\"  # Replace with your test image path\n",
        "image, pred_mask = predict_mask(model, image_path, test_transform)\n",
        "visualize_side_by_side(image, pred_mask)\n"
      ]
    }
  ],
  "metadata": {
    "colab": {
      "provenance": [],
      "authorship_tag": "ABX9TyMd6yeqNhO/V3ZxleI8zm4u",
      "include_colab_link": true
    },
    "kernelspec": {
      "display_name": "Python 3",
      "name": "python3"
    },
    "language_info": {
      "name": "python"
    }
  },
  "nbformat": 4,
  "nbformat_minor": 0
}